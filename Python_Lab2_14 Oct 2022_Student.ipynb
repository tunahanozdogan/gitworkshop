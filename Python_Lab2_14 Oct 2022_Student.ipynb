{
 "cells": [
  {
   "cell_type": "markdown",
   "id": "03e0f46f",
   "metadata": {},
   "source": [
    "<p style=\"text-align: center;\"><img src=\"https://docs.google.com/uc?id=1lY0Uj5R04yMY3-ZppPWxqCr5pvBLYPnV\" class=\"img-fluid\" \n",
    "alt=\"CLRSWY\"></p>\n",
    "\n",
    "## <p style=\"background-color:#FDFEFE; font-family:newtimeroman; color:#9d4f8c; font-size:120%; text-align:center; border-radius:10px 10px;\">Way to Reinvent Yourself</p>"
   ]
  },
  {
   "cell_type": "markdown",
   "id": "860d9f9a",
   "metadata": {},
   "source": [
    "<h1><p style=\"text-align: center; color:darkblue\">Lab2_Assignment Solutions <br>14 Oct 2022</p>"
   ]
  },
  {
   "cell_type": "markdown",
   "id": "1382b8e1",
   "metadata": {},
   "source": [
    "<a id=\"toc\"></a>\n",
    "\n",
    "## <p style=\"background-color:#9d4f8c; font-family:newtimeroman; color:#FFF9ED; font-size:175%; text-align:center; border-radius:10px 10px;\">Profit Calculator</p>"
   ]
  },
  {
   "cell_type": "markdown",
   "id": "1c764bc8",
   "metadata": {},
   "source": [
    "<div class=\"alert alert-block alert-info\">\n",
    "<font color=red>Task :</font> <font color=blue>If you had deposited a coin on the cryptocurrency exchange that brought 7% fixed profit daily for a week, how much would your $ 1000 reach at the end of the 7th day?</font>"
   ]
  },
  {
   "cell_type": "code",
   "execution_count": 4,
   "id": "a883c3e9",
   "metadata": {},
   "outputs": [],
   "source": [
    "para = 1000"
   ]
  },
  {
   "cell_type": "code",
   "execution_count": 5,
   "id": "93a42fe3",
   "metadata": {},
   "outputs": [
    {
     "data": {
      "text/plain": [
       "1070.0"
      ]
     },
     "execution_count": 5,
     "metadata": {},
     "output_type": "execute_result"
    }
   ],
   "source": [
    "para = para + para * 0.07  # pazartesi günü sonundaki para miktarım \n",
    "para"
   ]
  },
  {
   "cell_type": "code",
   "execution_count": 6,
   "id": "d0b641f1",
   "metadata": {},
   "outputs": [
    {
     "data": {
      "text/plain": [
       "1144.9"
      ]
     },
     "execution_count": 6,
     "metadata": {},
     "output_type": "execute_result"
    }
   ],
   "source": [
    "para = para + para * 0.07  # salı günü sonundaki para miktarım.\n",
    "\n",
    "para"
   ]
  },
  {
   "cell_type": "code",
   "execution_count": 7,
   "id": "61e4d18b",
   "metadata": {},
   "outputs": [
    {
     "data": {
      "text/plain": [
       "1225.0430000000001"
      ]
     },
     "execution_count": 7,
     "metadata": {},
     "output_type": "execute_result"
    }
   ],
   "source": [
    "para = para + para * 0.07  # çarşamba günü sonundaki para miktarım.\n",
    "\n",
    "para"
   ]
  },
  {
   "cell_type": "code",
   "execution_count": 8,
   "id": "394798fa",
   "metadata": {},
   "outputs": [
    {
     "data": {
      "text/plain": [
       "1310.79601"
      ]
     },
     "execution_count": 8,
     "metadata": {},
     "output_type": "execute_result"
    }
   ],
   "source": [
    "para = para + para * 0.07  # perşembe günü sonundaki para miktarım.\n",
    "\n",
    "para"
   ]
  },
  {
   "cell_type": "code",
   "execution_count": 9,
   "id": "c3f217e8",
   "metadata": {},
   "outputs": [
    {
     "data": {
      "text/plain": [
       "1402.5517307"
      ]
     },
     "execution_count": 9,
     "metadata": {},
     "output_type": "execute_result"
    }
   ],
   "source": [
    "para = para + para * 0.07  # cuma günü sonundaki para miktarım.\n",
    "\n",
    "para"
   ]
  },
  {
   "cell_type": "code",
   "execution_count": 10,
   "id": "225bdf78",
   "metadata": {},
   "outputs": [
    {
     "data": {
      "text/plain": [
       "1500.730351849"
      ]
     },
     "execution_count": 10,
     "metadata": {},
     "output_type": "execute_result"
    }
   ],
   "source": [
    "para = para + para * 0.07  # c.tesi günü sonundaki para miktarım.\n",
    "\n",
    "para"
   ]
  },
  {
   "cell_type": "code",
   "execution_count": 11,
   "id": "4cd8d6e6",
   "metadata": {},
   "outputs": [
    {
     "data": {
      "text/plain": [
       "1605.78147647843"
      ]
     },
     "execution_count": 11,
     "metadata": {},
     "output_type": "execute_result"
    }
   ],
   "source": [
    "para = para + para * 0.07  # pazar günü sonundaki para miktarım.\n",
    "\n",
    "para"
   ]
  },
  {
   "cell_type": "markdown",
   "id": "0660b857",
   "metadata": {},
   "source": [
    "### alternatif çözüm"
   ]
  },
  {
   "cell_type": "code",
   "execution_count": null,
   "id": "baf8ea08",
   "metadata": {},
   "outputs": [],
   "source": [
    "para = para * 1.07  # pazartesi günü sonundaki para miktarım \n",
    "\n",
    "\n",
    "para = para * 1.07  # salı günü sonundaki para miktarım \n",
    "para = para * 1.07  # çarşamba günü sonundaki para miktarım \n",
    "para = para * 1.07  # perşemba günü sonundaki para miktarım \n",
    "para = para * 1.07  # cuma günü sonundaki para miktarım \n",
    "para = para * 1.07  # c.tesi günü sonundaki para miktarım \n",
    "para = para * 1.07  # pazar günü sonundaki para miktarım \n"
   ]
  },
  {
   "cell_type": "code",
   "execution_count": null,
   "id": "c8559246",
   "metadata": {},
   "outputs": [],
   "source": [
    "para = para * 1.07 * 1.07  # salı günü sonundaki para miktarım\n",
    "\n",
    "\n",
    "para = para * 1.07 * 1.07 * 1.07  # çarşamba günü sonundaki para miktarım\n",
    "\n",
    "\n",
    "para = para * 1.07 * 1.07 * 1.07 * 1.07   # perşemba günü sonundaki para miktarım \n",
    "\n",
    "para = para * 1.07 * 1.07 * 1.07 * 1.07 * 1.07  # cuma günü sonundaki para miktarım \n",
    "\n",
    "\n",
    "para = para * 1.07 * 1.07 * 1.07 * 1.07 * 1.0 * 1.07  # c.tesi günü sonundaki para miktarım \n",
    "\n",
    "\n",
    "para = para * 1.07 * 1.07 * 1.07 * 1.07 * 1.07 * 1.07 * 1.07  # pazar günü sonundaki para miktarım "
   ]
  },
  {
   "cell_type": "code",
   "execution_count": 12,
   "id": "b8f016b8",
   "metadata": {},
   "outputs": [
    {
     "data": {
      "text/plain": [
       "64"
      ]
     },
     "execution_count": 12,
     "metadata": {},
     "output_type": "execute_result"
    }
   ],
   "source": [
    "4 * 4 * 4"
   ]
  },
  {
   "cell_type": "code",
   "execution_count": 13,
   "id": "e187c7fa",
   "metadata": {},
   "outputs": [
    {
     "data": {
      "text/plain": [
       "64"
      ]
     },
     "execution_count": 13,
     "metadata": {},
     "output_type": "execute_result"
    }
   ],
   "source": [
    "4 ** 3"
   ]
  },
  {
   "cell_type": "code",
   "execution_count": 17,
   "id": "3e187183",
   "metadata": {},
   "outputs": [
    {
     "name": "stdout",
     "output_type": "stream",
     "text": [
      "1605.7814764784307\n"
     ]
    }
   ],
   "source": [
    "para = 1000\n",
    "\n",
    "para = para * 1.07 ** 7\n",
    "\n",
    "print(para)"
   ]
  },
  {
   "cell_type": "markdown",
   "id": "1f50ef54",
   "metadata": {},
   "source": [
    "<a id=\"toc\"></a>\n",
    "\n",
    "## <p style=\"background-color:#9d4f8c; font-family:newtimeroman; color:#FFF9ED; font-size:175%; text-align:center; border-radius:10px 10px;\">Covid 19 Risk</p>"
   ]
  },
  {
   "cell_type": "markdown",
   "id": "976bae51",
   "metadata": {},
   "source": [
    "<div class=\"alert alert-block alert-info\">\n",
    "<font color=red><b>Task :</b></font> <font color=blue></font><br>\n",
    "    <font color=darkred><b>Estimating the risk of death from coronavirus.</b></font>\n",
    "\n",
    "Consider the following questions in terms of True/False regarding someone else.\n",
    "\n",
    "Are you a cigarette addict older than 75 years old? Variable → <font color=red><b>age</b></font>\n",
    "\n",
    "Do you have a severe chronic disease? Variable → <font color=red><b>chronic</b></font>\n",
    "\n",
    "Is your immune system too weak? Variable → <font color=red><b>immune</b></font>\n",
    "\n",
    "<font color=purple>Set a logical algorithm using boolean logic operators (and/or) and the given variables in order to give us True (there is a risk of death) or False (there is not a risk of death) as a result.</font></font>"
   ]
  },
  {
   "cell_type": "code",
   "execution_count": 19,
   "id": "9390d778",
   "metadata": {},
   "outputs": [
    {
     "name": "stdout",
     "output_type": "stream",
     "text": [
      "False\n"
     ]
    }
   ],
   "source": [
    "age = False\n",
    "chronic = False\n",
    "immune = False\n",
    "\n",
    "risk = age or chronic or immune\n",
    "print(risk)"
   ]
  },
  {
   "cell_type": "code",
   "execution_count": 21,
   "id": "b4cc21c6",
   "metadata": {},
   "outputs": [
    {
     "data": {
      "text/plain": [
       "True"
      ]
     },
     "execution_count": 21,
     "metadata": {},
     "output_type": "execute_result"
    }
   ],
   "source": [
    "age = False\n",
    "chronic = False\n",
    "immune = True\n",
    "\n",
    "age or chronic or immune"
   ]
  },
  {
   "cell_type": "code",
   "execution_count": 22,
   "id": "4db5e8f4",
   "metadata": {},
   "outputs": [
    {
     "data": {
      "text/plain": [
       "False"
      ]
     },
     "execution_count": 22,
     "metadata": {},
     "output_type": "execute_result"
    }
   ],
   "source": [
    "risk"
   ]
  },
  {
   "cell_type": "code",
   "execution_count": 24,
   "id": "b364b261",
   "metadata": {},
   "outputs": [
    {
     "name": "stdout",
     "output_type": "stream",
     "text": [
      "Risk of death : False\n"
     ]
    }
   ],
   "source": [
    "print(f\"Risk of death : {risk}\")"
   ]
  },
  {
   "cell_type": "code",
   "execution_count": 25,
   "id": "a90bde8f",
   "metadata": {},
   "outputs": [
    {
     "name": "stdout",
     "output_type": "stream",
     "text": [
      "Risk of death\n"
     ]
    }
   ],
   "source": [
    "print(\"Risk of death\".format(risk))"
   ]
  },
  {
   "cell_type": "code",
   "execution_count": 26,
   "id": "1e3ea5ca",
   "metadata": {},
   "outputs": [
    {
     "name": "stdout",
     "output_type": "stream",
     "text": [
      "are you a cigarette addict older than 75 years old? (Yes:1, No:0)1\n"
     ]
    },
    {
     "data": {
      "text/plain": [
       "str"
      ]
     },
     "execution_count": 26,
     "metadata": {},
     "output_type": "execute_result"
    }
   ],
   "source": [
    "type(input(\"are you a cigarette addict older than 75 years old? (Yes:1, No:0)\"))"
   ]
  },
  {
   "cell_type": "code",
   "execution_count": 28,
   "id": "eeb561bf",
   "metadata": {},
   "outputs": [
    {
     "name": "stdout",
     "output_type": "stream",
     "text": [
      "are you a cigarette addict older than 75 years old? (Yes:1, No:0)0\n"
     ]
    },
    {
     "data": {
      "text/plain": [
       "True"
      ]
     },
     "execution_count": 28,
     "metadata": {},
     "output_type": "execute_result"
    }
   ],
   "source": [
    "bool(input(\"are you a cigarette addict older than 75 years old? (Yes:1, No:0)\"))"
   ]
  },
  {
   "cell_type": "code",
   "execution_count": 29,
   "id": "d55daf57",
   "metadata": {},
   "outputs": [
    {
     "data": {
      "text/plain": [
       "True"
      ]
     },
     "execution_count": 29,
     "metadata": {},
     "output_type": "execute_result"
    }
   ],
   "source": [
    "bool(\"0\")"
   ]
  },
  {
   "cell_type": "code",
   "execution_count": 30,
   "id": "e41b6d68",
   "metadata": {},
   "outputs": [
    {
     "name": "stdout",
     "output_type": "stream",
     "text": [
      "are you a cigarette addict older than 75 years old? (Yes:1, No:0)1\n",
      "Do you have a severe chronic disease? (Yes:1 / No:0) :0\n",
      "Is your immune system too weak? (Yes:1 / No:0) : 0\n",
      "True\n"
     ]
    }
   ],
   "source": [
    "age = bool(int(input(\"are you a cigarette addict older than 75 years old? (Yes:1, No:0)\")))\n",
    "chronic = bool(int(input(\"Do you have a severe chronic disease? (Yes:1 / No:0) :\")))\n",
    "immune = bool(int(input(\"Is your immune system too weak? (Yes:1 / No:0) : \")))\n",
    "\n",
    "risk = age or chronic or immune\n",
    "\n",
    "print(risk)\n"
   ]
  },
  {
   "cell_type": "markdown",
   "id": "903affa0",
   "metadata": {},
   "source": [
    "<a id=\"toc\"></a>\n",
    "\n",
    "## <p style=\"background-color:#9d4f8c; font-family:newtimeroman; color:#FFF9ED; font-size:175%; text-align:center; border-radius:10px 10px;\">Measure Converter</p>"
   ]
  },
  {
   "cell_type": "markdown",
   "id": "739799eb",
   "metadata": {},
   "source": [
    "<div class=\"alert alert-block alert-info\">\n",
    "<font color=red><b>Task 1 :</b></font> <font color=blue><br>\n",
    "\n",
    "<font color=purple>Write a short Python program that asks the user to enter Celsius temperature (it can be a decimal number), converts the entered temperature into Fahrenheit degree and prints the result.</font>\n",
    "\n",
    "<font color=red><b>Task 2 :</b></font> <font color=blue><br>\n",
    "    \n",
    "<font color=purple>Write a short Python program that asks the user to enter a distance (it can be a decimal number) in kilometers, converts the entered distance into miles and prints the result.</font></font>"
   ]
  },
  {
   "cell_type": "markdown",
   "id": "8607c0d1",
   "metadata": {},
   "source": [
    "### Task 1"
   ]
  },
  {
   "cell_type": "code",
   "execution_count": 32,
   "id": "fdf74cea",
   "metadata": {},
   "outputs": [
    {
     "name": "stdout",
     "output_type": "stream",
     "text": [
      "clarusway\n",
      "clarusway clarusway clarusway \n"
     ]
    }
   ],
   "source": [
    "giriş = input()\n",
    "\n",
    "print((giriş + \" \") * 3)\n"
   ]
  },
  {
   "cell_type": "code",
   "execution_count": 35,
   "id": "54d255f3",
   "metadata": {},
   "outputs": [
    {
     "name": "stdout",
     "output_type": "stream",
     "text": [
      "write the temperature as Celcius : 35.1\n"
     ]
    },
    {
     "data": {
      "text/plain": [
       "95.18"
      ]
     },
     "execution_count": 35,
     "metadata": {},
     "output_type": "execute_result"
    }
   ],
   "source": [
    "celsius = float(input(\"write the temperature as Celcius : \"))\n",
    "\n",
    "fahrenheit = 1.8 * celsius + 32\n",
    "\n",
    "fahrenheit"
   ]
  },
  {
   "cell_type": "markdown",
   "id": "c51300b2",
   "metadata": {},
   "source": [
    "### Task 2"
   ]
  },
  {
   "cell_type": "code",
   "execution_count": 37,
   "id": "b996de80",
   "metadata": {},
   "outputs": [
    {
     "name": "stdout",
     "output_type": "stream",
     "text": [
      "write the kilometer to convert : 30\n",
      "30.0 kilometers equal to : 18.64 miles\n"
     ]
    }
   ],
   "source": [
    "km = float(input(\"write the kilometer to convert : \"))\n",
    "\n",
    "mile = km / 1.609344\n",
    "\n",
    "print(km, \"kilometers equal to :\", round(mile, 2), \"miles\")"
   ]
  },
  {
   "cell_type": "code",
   "execution_count": 40,
   "id": "1cbdb2bc",
   "metadata": {},
   "outputs": [
    {
     "name": "stdout",
     "output_type": "stream",
     "text": [
      "write the kilometer to convert : 30\n",
      "30.0 kilometers equal to : 18.6 miles\n"
     ]
    }
   ],
   "source": [
    "km = float(input(\"write the kilometer to convert : \"))\n",
    "\n",
    "mile = round((km / 1.609344), 1)\n",
    "\n",
    "print(km, \"kilometers equal to :\", mile, \"miles\")"
   ]
  },
  {
   "cell_type": "markdown",
   "id": "96a9a224",
   "metadata": {},
   "source": [
    "<a id=\"toc\"></a>\n",
    "\n",
    "## <p style=\"background-color:#9d4f8c; font-family:newtimeroman; color:#FFF9ED; font-size:175%; text-align:center; border-radius:10px 10px;\">Boolean Truthy</p>"
   ]
  },
  {
   "cell_type": "markdown",
   "id": "f1173bcc",
   "metadata": {},
   "source": [
    "<div class=\"alert alert-block alert-info\">\n",
    "<font color=red><b>Task :</b></font> <font color=blue><br>\n",
    "<b>\n",
    "<font color=purple>Using the all following items once each, set a correct boolean expression that returns write me. Use the print() function to display the result.</b>\n",
    "\n",
    "\n",
    "0<br>\n",
    "and<br>\n",
    "not<br>\n",
    "\"write me\"</font>"
   ]
  },
  {
   "cell_type": "code",
   "execution_count": 41,
   "id": "68593900",
   "metadata": {},
   "outputs": [
    {
     "data": {
      "text/plain": [
       "1"
      ]
     },
     "execution_count": 41,
     "metadata": {},
     "output_type": "execute_result"
    }
   ],
   "source": [
    "True and True and 1"
   ]
  },
  {
   "cell_type": "code",
   "execution_count": 42,
   "id": "6bef12ce",
   "metadata": {},
   "outputs": [
    {
     "data": {
      "text/plain": [
       "'bir'"
      ]
     },
     "execution_count": 42,
     "metadata": {},
     "output_type": "execute_result"
    }
   ],
   "source": [
    "True and True and (\"bir\")"
   ]
  },
  {
   "cell_type": "code",
   "execution_count": 43,
   "id": "1426038b",
   "metadata": {},
   "outputs": [
    {
     "data": {
      "text/plain": [
       "0"
      ]
     },
     "execution_count": 43,
     "metadata": {},
     "output_type": "execute_result"
    }
   ],
   "source": [
    "False or False or 0\n"
   ]
  },
  {
   "cell_type": "code",
   "execution_count": 44,
   "id": "c8d3ed44",
   "metadata": {},
   "outputs": [
    {
     "data": {
      "text/plain": [
       "''"
      ]
     },
     "execution_count": 44,
     "metadata": {},
     "output_type": "execute_result"
    }
   ],
   "source": [
    "False or False or \"\""
   ]
  },
  {
   "cell_type": "code",
   "execution_count": 45,
   "id": "1046c4d5",
   "metadata": {},
   "outputs": [
    {
     "data": {
      "text/plain": [
       "[]"
      ]
     },
     "execution_count": 45,
     "metadata": {},
     "output_type": "execute_result"
    }
   ],
   "source": [
    "False or False or []"
   ]
  },
  {
   "cell_type": "code",
   "execution_count": 48,
   "id": "6815f92e",
   "metadata": {},
   "outputs": [
    {
     "data": {
      "text/plain": [
       "'write me'"
      ]
     },
     "execution_count": 48,
     "metadata": {},
     "output_type": "execute_result"
    }
   ],
   "source": [
    "not 0 and \"write me\""
   ]
  },
  {
   "cell_type": "markdown",
   "id": "43614bb3",
   "metadata": {},
   "source": [
    "<a id=\"toc\"></a>\n",
    "\n",
    "## <p style=\"background-color:#9d4f8c; font-family:newtimeroman; color:#FFF9ED; font-size:175%; text-align:center; border-radius:10px 10px;\">Leap Year</p>"
   ]
  },
  {
   "cell_type": "markdown",
   "id": "49962b22",
   "metadata": {},
   "source": [
    "<div class=\"alert alert-block alert-info\">\n",
    "<font color=red><b>Task :</b></font> \n",
    "<font color=blue><b>Find out if a given year is a \"leap\" year.</b></font><br>\n",
    "    \n",
    "<b><font color=darkblue>In the Gregorian calendar, three criteria must be taken into account to identify leap years:</font><br></b>\n",
    "- <font color=red>The year must be evenly divisible by 4;  \n",
    "- <font color=red>If the year can also be evenly divided by 100, it is not a leap year;  \n",
    "- <font color=red>unless...The year is also evenly divisible by 400. Then it is a leap year.</font><br><br>\n",
    "<font color=purple><b><br>According to these rules, the years 2000 and 2400 are leap years, while 1800, 1900, 2100, 2200, 2300, and 2500 are not the leap years.\n",
    "Write a Python program that prints True if the given year by the user is a leap year, prints False otherwise.</b>\n",
    "</font>"
   ]
  },
  {
   "cell_type": "code",
   "execution_count": null,
   "id": "407ab75e",
   "metadata": {},
   "outputs": [],
   "source": []
  },
  {
   "cell_type": "code",
   "execution_count": null,
   "id": "5b7b8cc0",
   "metadata": {},
   "outputs": [],
   "source": []
  },
  {
   "cell_type": "code",
   "execution_count": null,
   "id": "49e2725b",
   "metadata": {},
   "outputs": [],
   "source": []
  },
  {
   "cell_type": "code",
   "execution_count": null,
   "id": "94260f85",
   "metadata": {},
   "outputs": [],
   "source": []
  }
 ],
 "metadata": {
  "kernelspec": {
   "display_name": "Python 3 (ipykernel)",
   "language": "python",
   "name": "python3"
  },
  "language_info": {
   "codemirror_mode": {
    "name": "ipython",
    "version": 3
   },
   "file_extension": ".py",
   "mimetype": "text/x-python",
   "name": "python",
   "nbconvert_exporter": "python",
   "pygments_lexer": "ipython3",
   "version": "3.9.12"
  }
 },
 "nbformat": 4,
 "nbformat_minor": 5
}
